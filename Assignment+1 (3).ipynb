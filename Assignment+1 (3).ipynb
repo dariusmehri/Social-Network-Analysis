{
 "cells": [
  {
   "cell_type": "markdown",
   "metadata": {},
   "source": [
    "---\n",
    "\n",
    "_You are currently looking at **version 1.1** of this notebook. To download notebooks and datafiles, as well as get help on Jupyter notebooks in the Coursera platform, visit the [Jupyter Notebook FAQ](https://www.coursera.org/learn/python-social-network-analysis/resources/yPcBs) course resource._\n",
    "\n",
    "---"
   ]
  },
  {
   "cell_type": "markdown",
   "metadata": {},
   "source": [
    "# Assignment 1 - Creating and Manipulating Graphs\n",
    "\n",
    "Eight employees at a small company were asked to choose 3 movies that they would most enjoy watching for the upcoming company movie night. These choices are stored in the file `Employee_Movie_Choices.txt`.\n",
    "\n",
    "A second file, `Employee_Relationships.txt`, has data on the relationships between different coworkers. \n",
    "\n",
    "The relationship score has value of `-100` (Enemies) to `+100` (Best Friends). A value of zero means the two employees haven't interacted or are indifferent.\n",
    "\n",
    "Both files are tab delimited."
   ]
  },
  {
   "cell_type": "code",
   "execution_count": null,
   "metadata": {
    "collapsed": true
   },
   "outputs": [],
   "source": [
    "import networkx as nx\n",
    "import pandas as pd\n",
    "import numpy as np\n",
    "from networkx.algorithms import bipartite\n",
    "\n",
    "\n",
    "# This is the set of employees\n",
    "employees = set(['Pablo',\n",
    "                 'Lee',\n",
    "                 'Georgia',\n",
    "                 'Vincent',\n",
    "                 'Andy',\n",
    "                 'Frida',\n",
    "                 'Joan',\n",
    "                 'Claude'])\n",
    "\n",
    "# This is the set of movies\n",
    "movies = set(['The Shawshank Redemption',\n",
    "              'Forrest Gump',\n",
    "              'The Matrix',\n",
    "              'Anaconda',\n",
    "              'The Social Network',\n",
    "              'The Godfather',\n",
    "              'Monty Python and the Holy Grail',\n",
    "              'Snakes on a Plane',\n",
    "              'Kung Fu Panda',\n",
    "              'The Dark Knight',\n",
    "              'Mean Girls'])\n",
    "\n",
    "\n",
    "# you can use the following function to plot graphs\n",
    "# make sure to comment it out before submitting to the autograder\n",
    "\"\"\"\n",
    "def plot_graph(G, weight_name=None):\n",
    "    '''\n",
    "    G: a networkx G\n",
    "    weight_name: name of the attribute for plotting edge weights (if G is weighted)\n",
    "    '''\n",
    "    %matplotlib notebook\n",
    "    import matplotlib.pyplot as plt\n",
    "    \n",
    "    plt.figure()\n",
    "    pos = nx.spring_layout(G)\n",
    "    edges = G.edges()\n",
    "    weights = None\n",
    "    \n",
    "    if weight_name:\n",
    "        weights = [int(G[u][v][weight_name]) for u,v in edges]\n",
    "        labels = nx.get_edge_attributes(G,weight_name)\n",
    "        nx.draw_networkx_edge_labels(G,pos,edge_labels=labels)\n",
    "        nx.draw_networkx(G, pos, edges=edges, width=weights);\n",
    "    else:\n",
    "        nx.draw_networkx(G, pos, edges=edges);\n",
    "        \n",
    "\"\"\""
   ]
  },
  {
   "cell_type": "markdown",
   "metadata": {},
   "source": [
    "### Question 1\n",
    "\n",
    "Using NetworkX, load in the bipartite graph from `Employee_Movie_Choices.txt` and return that graph.\n",
    "\n",
    "*This function should return a networkx graph with 19 nodes and 24 edges*"
   ]
  },
  {
   "cell_type": "code",
   "execution_count": 1,
   "metadata": {},
   "outputs": [
    {
     "data": {
      "text/plain": [
       "<networkx.classes.graph.Graph at 0x7fa94b7c7d30>"
      ]
     },
     "execution_count": 1,
     "metadata": {},
     "output_type": "execute_result"
    }
   ],
   "source": [
    "def answer_one():\n",
    "    import networkx as nx\n",
    "    import numpy as np\n",
    "    import pandas as pd\n",
    "    \n",
    "    path = \"Employee_Movie_Choices.txt\"\n",
    "    \n",
    "    #fp = open(path + \"Employee_Movie_Choices.txt\", \"r\")\n",
    "    \n",
    "    edges = []\n",
    "    with open(path) as f:\n",
    "        line = f.readline()\n",
    "        for line in f:\n",
    "            #print (line)\n",
    "            line = line.replace(\"\\t\", \" \")\n",
    "            line = line.replace(\"\\n\", \"\")\n",
    "            name = line.split(\" \")\n",
    "            #name = name[0]\n",
    "            #print (name)\n",
    "            employee = name[0]\n",
    "            movie = \"\"\n",
    "            for i in range(1, len(name)):\n",
    "                movie = movie + \" \" + name[i]\n",
    "                \n",
    "            movie = movie.strip()    \n",
    "            #print (employee, movie)\n",
    "            edges.append((employee, movie))\n",
    "            \n",
    "        \n",
    "    #print (edges)\n",
    "    G = nx.Graph()\n",
    "    \n",
    "    G.add_edges_from(edges)\n",
    "   \n",
    "    return G\n",
    "\n",
    "answer_one()"
   ]
  },
  {
   "cell_type": "markdown",
   "metadata": {},
   "source": [
    "### Question 2\n",
    "\n",
    "Using the graph from the previous question, add nodes attributes named `'type'` where movies have the value `'movie'` and employees have the value `'employee'` and return that graph.\n",
    "\n",
    "*This function should return a networkx graph with node attributes `{'type': 'movie'}` or `{'type': 'employee'}`*"
   ]
  },
  {
   "cell_type": "code",
   "execution_count": 2,
   "metadata": {},
   "outputs": [
    {
     "data": {
      "text/plain": [
       "<networkx.classes.graph.Graph at 0x7fa9490a7550>"
      ]
     },
     "execution_count": 2,
     "metadata": {},
     "output_type": "execute_result"
    }
   ],
   "source": [
    "def answer_two():\n",
    "    \n",
    "    import networkx as nx\n",
    "    import numpy as np\n",
    "    import pandas as pd\n",
    "    \n",
    "    path = \"Employee_Movie_Choices.txt\"\n",
    "  \n",
    "    edges = []\n",
    "    employees = []\n",
    "    movies = []\n",
    "    with open(path) as f:\n",
    "        line = f.readline()\n",
    "        for line in f:\n",
    "            #print (line)\n",
    "            line = line.replace(\"\\t\", \" \")\n",
    "            line = line.replace(\"\\n\", \"\")\n",
    "            name = line.split(\" \")\n",
    "            #name = name[0]\n",
    "            #print (name)\n",
    "            employee = name[0]\n",
    "            employees.append(employee)\n",
    "            movie = \"\"\n",
    "            for i in range(1, len(name)):\n",
    "                movie = movie + \" \" + name[i]\n",
    "                \n",
    "            movie = movie.strip()    \n",
    "            #print (employee, movie)\n",
    "            movies.append(movie)\n",
    "            edges.append((employee, movie))\n",
    "            \n",
    "    G = nx.Graph()\n",
    "    G.add_edges_from(edges)\n",
    "    \n",
    "    #G = answer_one()\n",
    "    \n",
    "    employees = list(set(employees))\n",
    "    movies = list(set(movies))\n",
    "    \n",
    "    \n",
    "    \n",
    "    \n",
    "    \n",
    "    labels = dict((n,(n, \"employee\" if n in employees\n",
    "                     else \"movie\" if n in movies\n",
    "                     else \"unknown\")) for n in G.nodes())\n",
    "    \n",
    "    \n",
    "    #print (labels)\n",
    "    nodeList = G.nodes()\n",
    "    nodeList = list(nodeList)\n",
    "    #print (nodeList)\n",
    "    #print (nodeList[0])\n",
    "    \n",
    "    for i in range(0, len(nodeList)):\n",
    "        if nodeList[i] in employees:\n",
    "            G.add_node(nodeList[i], type = \"employee\")\n",
    "        if nodeList[i] in movies:\n",
    "            G.add_node(nodeList[i], type = \"movie\")\n",
    "        \n",
    "    \n",
    "    return G\n",
    "\n",
    "answer_two()"
   ]
  },
  {
   "cell_type": "markdown",
   "metadata": {
    "collapsed": true
   },
   "source": [
    "### Question 3\n",
    "\n",
    "Find a weighted projection of the graph from `answer_two` which tells us how many movies different pairs of employees have in common.\n",
    "\n",
    "*This function should return a weighted projected graph.*"
   ]
  },
  {
   "cell_type": "code",
   "execution_count": null,
   "metadata": {
    "collapsed": true
   },
   "outputs": [],
   "source": [
    "def answer_three():\n",
    "    from networkx.algorithms import bipartite\n",
    "    G = answer_two()\n",
    "    G_node_list = list(G.nodes())\n",
    "    \n",
    "    nameList = []\n",
    "    \n",
    "    for i in range(0, len(G_node_list)):\n",
    "        a = G_node_list[i]\n",
    "        #print (a)\n",
    "        a = a.split(\" \")\n",
    "        #print (a)\n",
    "        \n",
    "        if len(a) == 1:\n",
    "            nameList.append(a[0])\n",
    "    nameList.remove('Anaconda')       \n",
    "    #print (nameList)\n",
    "    \n",
    "    P = bipartite.weighted_projected_graph(G, nameList)\n",
    "    \n",
    "    #print(GP.edges(data=True))\n",
    "    \n",
    "    bipList = (P.edges(data=True))\n",
    "    \n",
    "  \n",
    "    return P\n",
    "\n",
    "answer_three()"
   ]
  },
  {
   "cell_type": "markdown",
   "metadata": {
    "collapsed": true
   },
   "source": [
    "### Question 4\n",
    "\n",
    "Suppose you'd like to find out if people that have a high relationship score also like the same types of movies.\n",
    "\n",
    "Find the Pearson correlation ( using `DataFrame.corr()` ) between employee relationship scores and the number of movies they have in common. If two employees have no movies in common it should be treated as a 0, not a missing value, and should be included in the correlation calculation.\n",
    "\n",
    "*This function should return a float.*"
   ]
  },
  {
   "cell_type": "code",
   "execution_count": 1,
   "metadata": {},
   "outputs": [
    {
     "data": {
      "text/plain": [
       "0.78839622217334737"
      ]
     },
     "execution_count": 1,
     "metadata": {},
     "output_type": "execute_result"
    }
   ],
   "source": [
    "def answer_four():\n",
    "        \n",
    "    import networkx as nx\n",
    "    import numpy as np\n",
    "    import pandas as pd\n",
    "    \n",
    "    data = pd.read_csv('Employee_Relationships.txt', sep=\"\\t\", header=None)\n",
    "    data = data.rename(columns={0: 'Name1', 1: 'Name2', 2: 'Score'})\n",
    "    \n",
    "    \n",
    "    path = \"Employee_Movie_Choices.txt\"\n",
    "  \n",
    "    edges = []\n",
    "    employees = []\n",
    "    movies = []\n",
    "    with open(path) as f:\n",
    "        line = f.readline()\n",
    "        for line in f:\n",
    "            #print (line)\n",
    "            line = line.replace(\"\\t\", \" \")\n",
    "            line = line.replace(\"\\n\", \"\")\n",
    "            name = line.split(\" \")\n",
    "            #name = name[0]\n",
    "            #print (name)\n",
    "            employee = name[0]\n",
    "            employees.append(employee)\n",
    "            movie = \"\"\n",
    "            for i in range(1, len(name)):\n",
    "                movie = movie + \" \" + name[i]\n",
    "                \n",
    "            movie = movie.strip()    \n",
    "            #print (employee, movie)\n",
    "            movies.append(movie)\n",
    "            edges.append((employee, movie))\n",
    "            \n",
    "    df = pd.DataFrame(edges, columns=('Name', 'Movie'))\n",
    "    \n",
    "    df[\"Name\"] = df['Name'].astype(str).map(str.strip)\n",
    "    df[\"Movie\"] = df['Movie'].astype(str).map(str.strip)\n",
    "    \n",
    "    names = sorted(list(set(df[\"Name\"].tolist() )) )\n",
    "    \n",
    "    \n",
    "    #print (names)\n",
    "    #print (names2)\n",
    "    \n",
    "    allCount = []\n",
    "    \n",
    "    for i in range(0, len(names)):\n",
    "        name1 = df[df[\"Name\"] == names[i]]\n",
    "        name1 = name1[\"Movie\"].tolist()\n",
    "        #print (name1)\n",
    "        names2 = names.copy()\n",
    "        #print (names2)\n",
    "        names2.remove(names[i])\n",
    "        #print (names2)\n",
    "        \n",
    "        for j in range(0, len(names2)):\n",
    "            name2 = df[df[\"Name\"] == names2[j]]\n",
    "            name2 = name2[\"Movie\"].tolist()\n",
    "            \n",
    "            #print (names[i], name1, names2[j], name2)\n",
    "            \n",
    "            x = list(set(name1).intersection(name2)) \n",
    "            \n",
    "            #print (names[i], names2[j], len(x))\n",
    "            \n",
    "            nameListTemp = sorted([names[i], names2[j]])\n",
    "            #print (nameListTemp)\n",
    "            \n",
    "            allCount.append([nameListTemp[0], nameListTemp[1], len(x)])\n",
    "    \n",
    "    df2 = pd.DataFrame(allCount, columns=('Name1','Name2', 'Count'))\n",
    "    df2 = df2.drop_duplicates(subset=['Name1', 'Name2', 'Count']).reset_index(drop=True)\n",
    "\n",
    "    s1 = pd.merge(df2, data, how='left', on=['Name1', 'Name2'])\n",
    "    \n",
    "    \n",
    "    corr = s1['Count'].corr(s1['Score'])\n",
    "    \n",
    "    result = 0.88\n",
    "    \n",
    "    return corr\n",
    "\n",
    "answer_four()"
   ]
  },
  {
   "cell_type": "code",
   "execution_count": null,
   "metadata": {
    "collapsed": true
   },
   "outputs": [],
   "source": []
  }
 ],
 "metadata": {
  "coursera": {
   "course_slug": "python-social-network-analysis",
   "graded_item_id": "YNa9b",
   "launcher_item_id": "hvNc1",
   "part_id": "VbyiB"
  },
  "kernelspec": {
   "display_name": "Python 3",
   "language": "python",
   "name": "python3"
  },
  "language_info": {
   "codemirror_mode": {
    "name": "ipython",
    "version": 3
   },
   "file_extension": ".py",
   "mimetype": "text/x-python",
   "name": "python",
   "nbconvert_exporter": "python",
   "pygments_lexer": "ipython3",
   "version": "3.6.2"
  }
 },
 "nbformat": 4,
 "nbformat_minor": 2
}
