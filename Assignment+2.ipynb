{
 "cells": [
  {
   "cell_type": "markdown",
   "metadata": {},
   "source": [
    "---\n",
    "\n",
    "_You are currently looking at **version 1.2** of this notebook. To download notebooks and datafiles, as well as get help on Jupyter notebooks in the Coursera platform, visit the [Jupyter Notebook FAQ](https://www.coursera.org/learn/python-social-network-analysis/resources/yPcBs) course resource._\n",
    "\n",
    "---"
   ]
  },
  {
   "cell_type": "markdown",
   "metadata": {},
   "source": [
    "# Assignment 2 - Network Connectivity\n",
    "\n",
    "In this assignment you will go through the process of importing and analyzing an internal email communication network between employees of a mid-sized manufacturing company. \n",
    "Each node represents an employee and each directed edge between two nodes represents an individual email. The left node represents the sender and the right node represents the recipient."
   ]
  },
  {
   "cell_type": "code",
   "execution_count": 1,
   "metadata": {
    "collapsed": true
   },
   "outputs": [],
   "source": [
    "import networkx as nx\n",
    "\n",
    "# This line must be commented out when submitting to the autograder\n",
    "#!head email_network.txt"
   ]
  },
  {
   "cell_type": "markdown",
   "metadata": {},
   "source": [
    "### Question 1\n",
    "\n",
    "Using networkx, load up the directed multigraph from `email_network.txt`. Make sure the node names are strings.\n",
    "\n",
    "*This function should return a directed multigraph networkx graph.*"
   ]
  },
  {
   "cell_type": "code",
   "execution_count": 2,
   "metadata": {},
   "outputs": [
    {
     "data": {
      "text/plain": [
       "<networkx.classes.multidigraph.MultiDiGraph at 0x7f4e4a5f2198>"
      ]
     },
     "execution_count": 2,
     "metadata": {},
     "output_type": "execute_result"
    }
   ],
   "source": [
    "def answer_one():\n",
    "    import pandas as pd\n",
    "    \n",
    "    df = pd.read_csv('email_network.txt', sep=\"\\t\")\n",
    "\n",
    "    \n",
    "    df[\"#Sender\"] = df[\"#Sender\"].astype(str)\n",
    "    df[\"Recipient\"] = df[\"Recipient\"].astype(str)\n",
    "    \n",
    "    #G = nx.Graph()\n",
    "    #G = nx.DiGraph()\n",
    "    \n",
    "    G = nx.MultiDiGraph()\n",
    "\n",
    "    edges = []\n",
    "    for i in range(0, len(df)):\n",
    "        edges.append((df[\"#Sender\"][i], df[\"Recipient\"][i]) )\n",
    "    \n",
    "    G.add_edges_from(edges)\n",
    "    \n",
    "    #print (G.edges)\n",
    "    \n",
    "    return G\n",
    "\n",
    "answer_one()"
   ]
  },
  {
   "cell_type": "markdown",
   "metadata": {},
   "source": [
    "### Question 2\n",
    "\n",
    "How many employees and emails are represented in the graph from Question 1?\n",
    "\n",
    "*This function should return a tuple (#employees, #emails).*"
   ]
  },
  {
   "cell_type": "code",
   "execution_count": 3,
   "metadata": {},
   "outputs": [
    {
     "data": {
      "text/plain": [
       "(167, 82927)"
      ]
     },
     "execution_count": 3,
     "metadata": {},
     "output_type": "execute_result"
    }
   ],
   "source": [
    "def answer_two():\n",
    "    \n",
    "    import pandas as pd\n",
    "    \n",
    "    df = pd.read_csv('email_network.txt', sep=\"\\t\")\n",
    "    #print (len(df))\n",
    "    #print (df)\n",
    "    \n",
    "    G = answer_one()\n",
    "    \n",
    "    #print (G.nodes())\n",
    "  \n",
    "    length = len(df)\n",
    "    return (len(G.nodes()), length )\n",
    "\n",
    "answer_two()"
   ]
  },
  {
   "cell_type": "markdown",
   "metadata": {},
   "source": [
    "### Question 3\n",
    "\n",
    "* Part 1. Assume that information in this company can only be exchanged through email.\n",
    "\n",
    "    When an employee sends an email to another employee, a communication channel has been created, allowing the sender to provide information to the receiver, but not vice versa. \n",
    "\n",
    "    Based on the emails sent in the data, is it possible for information to go from every employee to every other employee?\n",
    "\n",
    "\n",
    "* Part 2. Now assume that a communication channel established by an email allows information to be exchanged both ways. \n",
    "\n",
    "    Based on the emails sent in the data, is it possible for information to go from every employee to every other employee?\n",
    "\n",
    "\n",
    "*This function should return a tuple of bools (part1, part2).*"
   ]
  },
  {
   "cell_type": "code",
   "execution_count": 4,
   "metadata": {},
   "outputs": [
    {
     "data": {
      "text/plain": [
       "(False, True)"
      ]
     },
     "execution_count": 4,
     "metadata": {},
     "output_type": "execute_result"
    }
   ],
   "source": [
    "def answer_three():\n",
    "        \n",
    "    G = answer_one()\n",
    "    \n",
    "    #print (nx.is_strongly_connected(G))\n",
    "    # Your Code Here\n",
    "    #print (nx.is_weakly_connected(G))\n",
    "    \n",
    "    return (nx.is_strongly_connected(G), nx.is_weakly_connected(G))\n",
    "\n",
    "answer_three()"
   ]
  },
  {
   "cell_type": "markdown",
   "metadata": {},
   "source": [
    "### Question 4\n",
    "\n",
    "How many nodes are in the largest (in terms of nodes) weakly connected component?\n",
    "\n",
    "*This function should return an int.*"
   ]
  },
  {
   "cell_type": "code",
   "execution_count": 5,
   "metadata": {
    "scrolled": true
   },
   "outputs": [
    {
     "data": {
      "text/plain": [
       "167"
      ]
     },
     "execution_count": 5,
     "metadata": {},
     "output_type": "execute_result"
    }
   ],
   "source": [
    "def answer_four():\n",
    "    G = answer_one()\n",
    "    num_cc = sorted(nx.weakly_connected_components(G) )\n",
    "    \n",
    "    numNodes = num_cc[0]\n",
    "    \n",
    "    return len(numNodes)\n",
    "\n",
    "answer_four()"
   ]
  },
  {
   "cell_type": "markdown",
   "metadata": {},
   "source": [
    "### Question 5\n",
    "\n",
    "How many nodes are in the largest (in terms of nodes) strongly connected component?\n",
    "\n",
    "*This function should return an int*"
   ]
  },
  {
   "cell_type": "code",
   "execution_count": 6,
   "metadata": {},
   "outputs": [
    {
     "data": {
      "text/plain": [
       "126"
      ]
     },
     "execution_count": 6,
     "metadata": {},
     "output_type": "execute_result"
    }
   ],
   "source": [
    "def answer_five():\n",
    "        \n",
    "    G = answer_one()\n",
    "    num_cc = sorted(nx.strongly_connected_components(G) )\n",
    "    \n",
    "    ccList = []\n",
    "    for i in range(0, len(num_cc)):\n",
    "        ccList.append(len(num_cc[i])  )\n",
    "        \n",
    "    ccList = sorted(ccList, reverse=True)\n",
    "    \n",
    "    return ccList[0]\n",
    "\n",
    "answer_five()"
   ]
  },
  {
   "cell_type": "markdown",
   "metadata": {},
   "source": [
    "### Question 6\n",
    "\n",
    "Using the NetworkX function strongly_connected_component_subgraphs, find the subgraph of nodes in a largest strongly connected component. \n",
    "Call this graph G_sc.\n",
    "\n",
    "*This function should return a networkx MultiDiGraph named G_sc.*"
   ]
  },
  {
   "cell_type": "code",
   "execution_count": 7,
   "metadata": {},
   "outputs": [
    {
     "data": {
      "text/plain": [
       "<networkx.classes.multidigraph.MultiDiGraph at 0x7f4e4861c470>"
      ]
     },
     "execution_count": 7,
     "metadata": {},
     "output_type": "execute_result"
    }
   ],
   "source": [
    "def answer_six():\n",
    "        \n",
    "    G = answer_one()\n",
    "    #G_sc = nx.strongly_connected_component_subgraphs(G)\n",
    "    \n",
    "    #[len(Gc) for Gc in sorted(nx.strongly_connected_component_subgraphs(G),\n",
    "    #                     key=len, reverse=True)]\n",
    "    \n",
    "    G_sc = max(nx.strongly_connected_component_subgraphs(G), key=len)\n",
    "    \n",
    "    \n",
    "    return G_sc\n",
    "\n",
    "answer_six()"
   ]
  },
  {
   "cell_type": "markdown",
   "metadata": {},
   "source": [
    "### Question 7\n",
    "\n",
    "What is the average distance between nodes in G_sc?\n",
    "\n",
    "*This function should return a float.*"
   ]
  },
  {
   "cell_type": "code",
   "execution_count": 8,
   "metadata": {},
   "outputs": [
    {
     "data": {
      "text/plain": [
       "1.6461587301587302"
      ]
     },
     "execution_count": 8,
     "metadata": {},
     "output_type": "execute_result"
    }
   ],
   "source": [
    "def answer_seven():\n",
    "    \n",
    "    G = answer_six()\n",
    "    \n",
    "    avgShort = nx.average_shortest_path_length(G)\n",
    "        \n",
    "    # Your Code Here\n",
    "    \n",
    "    return avgShort\n",
    "\n",
    "answer_seven()"
   ]
  },
  {
   "cell_type": "markdown",
   "metadata": {},
   "source": [
    "### Question 8\n",
    "\n",
    "What is the largest possible distance between two employees in G_sc?\n",
    "\n",
    "*This function should return an int.*"
   ]
  },
  {
   "cell_type": "code",
   "execution_count": 9,
   "metadata": {},
   "outputs": [
    {
     "data": {
      "text/plain": [
       "3"
      ]
     },
     "execution_count": 9,
     "metadata": {},
     "output_type": "execute_result"
    }
   ],
   "source": [
    "def answer_eight():\n",
    "    import operator\n",
    "    G = answer_six()\n",
    "        \n",
    "    G_ecc = nx.eccentricity(G, v=None, sp=None)\n",
    "    sorted_x = sorted(G_ecc.items(), key=operator.itemgetter(1), reverse=True)\n",
    "    \n",
    "    return sorted_x[0][1]\n",
    "\n",
    "answer_eight()"
   ]
  },
  {
   "cell_type": "markdown",
   "metadata": {},
   "source": [
    "### Question 9\n",
    "\n",
    "What is the set of nodes in G_sc with eccentricity equal to the diameter?\n",
    "\n",
    "*This function should return a set of the node(s).*"
   ]
  },
  {
   "cell_type": "code",
   "execution_count": 10,
   "metadata": {},
   "outputs": [
    {
     "data": {
      "text/plain": [
       "{'129', '134', '97'}"
      ]
     },
     "execution_count": 10,
     "metadata": {},
     "output_type": "execute_result"
    }
   ],
   "source": [
    "def answer_nine():\n",
    "    G_sc = answer_six()\n",
    "    #nodeList = G_sc.nodes\n",
    "    #nodeList = list(nodeList)\n",
    "    #print (nodeList)\n",
    "    #print (nodeList[0])\n",
    "    #print (type(nodeList[0]))\n",
    "    diam =  nx.diameter(G_sc) \n",
    "        \n",
    "    ecc = nx.eccentricity(G_sc) \n",
    "    \n",
    "    #print (\"eccentricity\")\n",
    "    nodeList = list(ecc.keys()) \n",
    "    \n",
    "    #print (\"diameter\")\n",
    "    #print (diam)\n",
    "\n",
    "    nodeList2 = []\n",
    "    for node in nodeList:\n",
    "        if ecc[node] == diam:\n",
    "            nodeList2.append(node)\n",
    "    \n",
    "    #return set(nodeList2)\n",
    "    #print (nodeList2)\n",
    "    nodeSet = set(nodeList2)\n",
    "    #print nodeSet\n",
    "    return nodeSet\n",
    "\n",
    "answer_nine()"
   ]
  },
  {
   "cell_type": "markdown",
   "metadata": {},
   "source": [
    "### Question 10\n",
    "\n",
    "What is the set of node(s) in G_sc with eccentricity equal to the radius?\n",
    "\n",
    "*This function should return a set of the node(s).*"
   ]
  },
  {
   "cell_type": "code",
   "execution_count": 11,
   "metadata": {},
   "outputs": [
    {
     "data": {
      "text/plain": [
       "{'38'}"
      ]
     },
     "execution_count": 11,
     "metadata": {},
     "output_type": "execute_result"
    }
   ],
   "source": [
    "def answer_ten():\n",
    "    G_sc = answer_six()\n",
    "    \n",
    "    #nodeList = G_sc.nodes\n",
    "    \n",
    "    #nodeList = list(nodeList)\n",
    "\n",
    "    rad =  nx.radius(G_sc) \n",
    "    \n",
    "    #print (rad)\n",
    "        \n",
    "    ecc = nx.eccentricity(G_sc)\n",
    "    nodeList = list(ecc.keys()) \n",
    "\n",
    "    nodeList2 = []\n",
    "    for node in nodeList:\n",
    "        if ecc[node] == rad:\n",
    "            nodeList2.append(node)\n",
    "    \n",
    "    return set(nodeList2)\n",
    "\n",
    "answer_ten()"
   ]
  },
  {
   "cell_type": "markdown",
   "metadata": {},
   "source": [
    "### Question 11\n",
    "\n",
    "Which node in G_sc is connected to the most other nodes by a shortest path of length equal to the diameter of G_sc?\n",
    "\n",
    "How many nodes are connected to this node?\n",
    "\n",
    "\n",
    "*This function should return a tuple (name of node, number of satisfied connected nodes).*"
   ]
  },
  {
   "cell_type": "code",
   "execution_count": 12,
   "metadata": {},
   "outputs": [
    {
     "data": {
      "text/plain": [
       "('97', 63)"
      ]
     },
     "execution_count": 12,
     "metadata": {},
     "output_type": "execute_result"
    }
   ],
   "source": [
    "def answer_eleven():\n",
    "    import pandas as pd\n",
    "    from operator import itemgetter\n",
    "    #G_sc = answer_six()\n",
    "    #nodeList = G_sc.nodes\n",
    "    #nodeList = list(nodeList)\n",
    "    \n",
    "    G_sc = answer_six()\n",
    "    ecc = nx.eccentricity(G_sc)\n",
    "    nodeList = list(ecc.keys()) \n",
    "    #print (\"Node List\", nodeList)\n",
    "  \n",
    "    diam =  nx.diameter(G_sc)\n",
    "    \n",
    "    answer = []\n",
    "    for node1 in nodeList:\n",
    "        for node2 in nodeList:\n",
    "            nodeShortLength =  (nx.shortest_path_length(G_sc, node1, node2) )\n",
    "            #print (nodeShortLength)\n",
    "            if nodeShortLength == diam:\n",
    "                answer.append(node1)\n",
    "                #nodePath =  (nx.shortest_path(G_sc, node1, node2))\n",
    "                #solution = [node1, len(nodePath)]\n",
    "                #if solution not in answer:\n",
    "                    #answer.append([node1, len(nodePath) - 1])\n",
    "                \n",
    "    answer = list(set(answer) )\n",
    "    \n",
    "    answer2 = []\n",
    "    \n",
    "    for i in range(0, len(answer)):\n",
    "        spl = nx.shortest_path_length(G_sc, answer[i])\n",
    "        spl = {key:val for key, val in spl.items() if val == 3}\n",
    "        \n",
    "        answer2.append([answer[i], len(spl)])\n",
    "    \n",
    " \n",
    "    #sort list of lists\n",
    "    answer2 = sorted(answer2, key=itemgetter(1), reverse=True)\n",
    "    \n",
    "    return (answer2[0][0], answer2[0][1] )\n",
    "    #return (answer2 )\n",
    "\n",
    "answer_eleven()"
   ]
  },
  {
   "cell_type": "markdown",
   "metadata": {},
   "source": [
    "### Question 12\n",
    "\n",
    "Suppose you want to prevent communication from flowing to the node that you found in the previous question from any node in the center of G_sc, what is the smallest number of nodes you would need to remove from the graph (you're not allowed to remove the node from the previous question or the center nodes)? \n",
    "\n",
    "*This function should return an integer.*"
   ]
  },
  {
   "cell_type": "code",
   "execution_count": 17,
   "metadata": {},
   "outputs": [
    {
     "data": {
      "text/plain": [
       "0"
      ]
     },
     "execution_count": 17,
     "metadata": {},
     "output_type": "execute_result"
    }
   ],
   "source": [
    "def answer_twelve():\n",
    "        \n",
    "    thenode = answer_eleven()\n",
    "    thenode = thenode[0]\n",
    "    G_sc = answer_six()\n",
    "    #nodeList = G_sc.nodes\n",
    "    \n",
    "    centerNode = nx.center(G_sc)\n",
    "    centerNode = centerNode[0]\n",
    "    #print (centerNode)\n",
    "    #print (thenode)\n",
    "    \n",
    "    #how many nodes would have to be removed\n",
    "    #nx.node_connectivity(G_sc, '97', 'center node')\n",
    "    #out: 2\n",
    "    \n",
    "    #what nodes would have to be removed\n",
    "    nodeCon = nx.node_connectivity(G_sc, thenode, centerNode)\n",
    "    #print (nodeCon)\n",
    "    #nodesCut = nx.minimum_node_cut(G_sc, thenode, centerNode)\n",
    "    #print (nodesCut)\n",
    "    \n",
    "    #nodeCon = nx.node_connectivity(G_sc, centerNode, thenode)\n",
    "    #print (nodeCon)\n",
    "    #nodesCut = nx.minimum_node_cut(G_sc, centerNode, thenode)\n",
    "    #print (nodesCut)\n",
    "\n",
    "    #out: set of nodes\n",
    "    \n",
    "    nodeCon = nodeCon - 1\n",
    "    \n",
    "    \n",
    "    #G = answer_six()\n",
    "    #center = nx.center(G)[0]\n",
    "    #node = answer_eleven()[0]\n",
    "    #return len(nx.minimum_node_cut(G, center, node))\n",
    "    \n",
    "    \n",
    "    return nodeCon\n",
    "\n",
    "answer_twelve()"
   ]
  },
  {
   "cell_type": "markdown",
   "metadata": {},
   "source": [
    "### Question 13\n",
    "\n",
    "Construct an undirected graph G_un using G_sc (you can ignore the attributes).\n",
    "\n",
    "*This function should return a networkx Graph.*"
   ]
  },
  {
   "cell_type": "code",
   "execution_count": 15,
   "metadata": {},
   "outputs": [
    {
     "data": {
      "text/plain": [
       "<networkx.classes.multigraph.MultiGraph at 0x7fc8b4a57780>"
      ]
     },
     "execution_count": 15,
     "metadata": {},
     "output_type": "execute_result"
    }
   ],
   "source": [
    "def answer_thirteen():\n",
    "        \n",
    "    G_sc = answer_six()\n",
    "    \n",
    "    #create an undirected subgraph\n",
    "    G_sc2 = G_sc.to_undirected()\n",
    "    \n",
    "    G_un = nx.Graph(G_sc2)\n",
    "   \n",
    " \n",
    "    #edges =  list(G_sc2.edges)\n",
    "    #nodes = list(G_sc2.nodes)\n",
    "    \n",
    "    #print (len(nodes) )\n",
    "    \n",
    "    \"\"\"\n",
    "    #get only the edges without the attributes\n",
    "    G_un=nx.Graph()\n",
    "    \n",
    "    edges2 = []\n",
    "    \n",
    "    for i in range(0, len(edges)):\n",
    "        \n",
    "        theedges = (edges[i][0], edges[i][1])\n",
    "        \n",
    "        if theedges not in edges2:\n",
    "            edges2.append(theedges) \n",
    "            \n",
    "    #print (edges2)\n",
    "    \n",
    "    G_un.add_edges_from(edges2)\n",
    "    \n",
    "    \"\"\"\n",
    "    \n",
    "    \n",
    "    return G_un\n",
    "\n",
    "answer_thirteen()\n"
   ]
  },
  {
   "cell_type": "markdown",
   "metadata": {},
   "source": [
    "### Question 14\n",
    "\n",
    "What is the transitivity and average clustering coefficient of graph G_un?\n",
    "\n",
    "*This function should return a tuple (transitivity, avg clustering).*"
   ]
  },
  {
   "cell_type": "code",
   "execution_count": null,
   "metadata": {
    "collapsed": true
   },
   "outputs": [],
   "source": [
    "def answer_fourteen():\n",
    "        \n",
    "    G = answer_thirteen()\n",
    "    \n",
    "    trans = nx.transitivity(G)\n",
    "    \n",
    "    avgClus = nx.average_clustering(G)\n",
    "    \n",
    "    return (trans, avgClus)\n",
    "\n",
    "answer_fourteen()"
   ]
  }
 ],
 "metadata": {
  "coursera": {
   "course_slug": "python-social-network-analysis",
   "graded_item_id": "jMCHR",
   "launcher_item_id": "7RsKp",
   "part_id": "E9gn5"
  },
  "kernelspec": {
   "display_name": "Python 3",
   "language": "python",
   "name": "python3"
  },
  "language_info": {
   "codemirror_mode": {
    "name": "ipython",
    "version": 3
   },
   "file_extension": ".py",
   "mimetype": "text/x-python",
   "name": "python",
   "nbconvert_exporter": "python",
   "pygments_lexer": "ipython3",
   "version": "3.6.2"
  }
 },
 "nbformat": 4,
 "nbformat_minor": 2
}
